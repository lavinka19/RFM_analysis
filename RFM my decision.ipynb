{
 "cells": [
  {
   "cell_type": "code",
   "execution_count": 1,
   "id": "6dc28b02",
   "metadata": {},
   "outputs": [],
   "source": [
    "import pandas as pd\n",
    "import numpy as np\n",
    "import requests\n",
    "from urllib.parse import urlencode"
   ]
  },
  {
   "cell_type": "code",
   "execution_count": 2,
   "id": "893e682e",
   "metadata": {},
   "outputs": [],
   "source": [
    "assessments_url = 'https://disk.yandex.ru/d/WG2u0PPEfUCWvw'\n",
    "courses_url = 'https://disk.yandex.ru/d/51xrZHoHNy3R3Q'\n",
    "studentAssessment_url= 'https://disk.yandex.ru/d/eCCGfl52Xp_4Lw'\n",
    "studentRegistration_url = 'https://disk.yandex.ru/d/H_qZLNN9wgnAwQ'"
   ]
  },
  {
   "cell_type": "code",
   "execution_count": 3,
   "id": "ca0f2e13",
   "metadata": {},
   "outputs": [],
   "source": [
    "def ydisk_api(public_key: str) -> str:\n",
    "    base_url = 'https://cloud-api.yandex.net/v1/disk/public/resources/download?'\n",
    "    url = base_url + urlencode(dict(public_key=public_key))\n",
    "    response = requests.get(url)\n",
    "    download = response.json()['href']\n",
    "    return download"
   ]
  },
  {
   "cell_type": "code",
   "execution_count": 4,
   "id": "01d1fdc2",
   "metadata": {},
   "outputs": [],
   "source": [
    "assessments = pd.read_csv(ydisk_api(assessments_url))\n",
    "courses = pd.read_csv(ydisk_api(courses_url))\n",
    "studentAssessment = pd.read_csv(ydisk_api(studentAssessment_url))\n",
    "studentRegistration = pd.read_csv(ydisk_api(studentRegistration_url))"
   ]
  },
  {
   "cell_type": "markdown",
   "id": "6dbb6b7b",
   "metadata": {},
   "source": [
    "### Кейс 1\n",
    "Сколько студентов успешно сдали только один курс?"
   ]
  },
  {
   "cell_type": "code",
   "execution_count": 9,
   "id": "3d2d975c",
   "metadata": {},
   "outputs": [],
   "source": [
    "df_full = assessments.merge(studentAssessment).merge(courses)"
   ]
  },
  {
   "cell_type": "code",
   "execution_count": 10,
   "id": "bb45a9a3",
   "metadata": {},
   "outputs": [
    {
     "name": "stdout",
     "output_type": "stream",
     "text": [
      "Object `nlargest` not found.\n"
     ]
    }
   ],
   "source": [
    "df_full['date_submitted'].nlargest?"
   ]
  },
  {
   "cell_type": "code",
   "execution_count": null,
   "id": "ab00418c",
   "metadata": {},
   "outputs": [],
   "source": [
    "df_full['date_submitted'].nlargest"
   ]
  },
  {
   "cell_type": "code",
   "execution_count": 11,
   "id": "e71015e3",
   "metadata": {},
   "outputs": [
    {
     "data": {
      "text/plain": [
       "173912"
      ]
     },
     "execution_count": 11,
     "metadata": {},
     "output_type": "execute_result"
    }
   ],
   "source": [
    "len(df_full['date_submitted'])"
   ]
  },
  {
   "cell_type": "code",
   "execution_count": 12,
   "id": "6a54983f",
   "metadata": {},
   "outputs": [],
   "source": [
    "df = df_full.query('assessment_type == \"Exam\" & score >= 40') \\\n",
    "    .groupby('id_student', as_index=False) \\\n",
    "    .agg({'code_module': \"count\"})"
   ]
  },
  {
   "cell_type": "code",
   "execution_count": 13,
   "id": "d303d76f",
   "metadata": {
    "scrolled": false
   },
   "outputs": [
    {
     "data": {
      "text/html": [
       "<div>\n",
       "<style scoped>\n",
       "    .dataframe tbody tr th:only-of-type {\n",
       "        vertical-align: middle;\n",
       "    }\n",
       "\n",
       "    .dataframe tbody tr th {\n",
       "        vertical-align: top;\n",
       "    }\n",
       "\n",
       "    .dataframe thead th {\n",
       "        text-align: right;\n",
       "    }\n",
       "</style>\n",
       "<table border=\"1\" class=\"dataframe\">\n",
       "  <thead>\n",
       "    <tr style=\"text-align: right;\">\n",
       "      <th></th>\n",
       "      <th>id_student</th>\n",
       "      <th>code_module</th>\n",
       "    </tr>\n",
       "  </thead>\n",
       "  <tbody>\n",
       "    <tr>\n",
       "      <th>0</th>\n",
       "      <td>23698</td>\n",
       "      <td>1</td>\n",
       "    </tr>\n",
       "    <tr>\n",
       "      <th>1</th>\n",
       "      <td>24213</td>\n",
       "      <td>1</td>\n",
       "    </tr>\n",
       "    <tr>\n",
       "      <th>2</th>\n",
       "      <td>27116</td>\n",
       "      <td>1</td>\n",
       "    </tr>\n",
       "    <tr>\n",
       "      <th>3</th>\n",
       "      <td>28046</td>\n",
       "      <td>1</td>\n",
       "    </tr>\n",
       "    <tr>\n",
       "      <th>4</th>\n",
       "      <td>28787</td>\n",
       "      <td>1</td>\n",
       "    </tr>\n",
       "    <tr>\n",
       "      <th>...</th>\n",
       "      <td>...</td>\n",
       "      <td>...</td>\n",
       "    </tr>\n",
       "    <tr>\n",
       "      <th>4092</th>\n",
       "      <td>2694886</td>\n",
       "      <td>1</td>\n",
       "    </tr>\n",
       "    <tr>\n",
       "      <th>4093</th>\n",
       "      <td>2694933</td>\n",
       "      <td>1</td>\n",
       "    </tr>\n",
       "    <tr>\n",
       "      <th>4094</th>\n",
       "      <td>2695608</td>\n",
       "      <td>1</td>\n",
       "    </tr>\n",
       "    <tr>\n",
       "      <th>4095</th>\n",
       "      <td>2697181</td>\n",
       "      <td>1</td>\n",
       "    </tr>\n",
       "    <tr>\n",
       "      <th>4096</th>\n",
       "      <td>2698251</td>\n",
       "      <td>1</td>\n",
       "    </tr>\n",
       "  </tbody>\n",
       "</table>\n",
       "<p>3802 rows × 2 columns</p>\n",
       "</div>"
      ],
      "text/plain": [
       "      id_student  code_module\n",
       "0          23698            1\n",
       "1          24213            1\n",
       "2          27116            1\n",
       "3          28046            1\n",
       "4          28787            1\n",
       "...          ...          ...\n",
       "4092     2694886            1\n",
       "4093     2694933            1\n",
       "4094     2695608            1\n",
       "4095     2697181            1\n",
       "4096     2698251            1\n",
       "\n",
       "[3802 rows x 2 columns]"
      ]
     },
     "execution_count": 13,
     "metadata": {},
     "output_type": "execute_result"
    }
   ],
   "source": [
    "df[df['code_module']==1]"
   ]
  },
  {
   "cell_type": "code",
   "execution_count": 14,
   "id": "135d7a27",
   "metadata": {},
   "outputs": [
    {
     "name": "stdout",
     "output_type": "stream",
     "text": [
      "3802 студентов успешно сдали только один курс\n"
     ]
    }
   ],
   "source": [
    "print(f'{df[df[\"code_module\"]==1].count()[0]} студентов успешно сдали только один курс')"
   ]
  },
  {
   "cell_type": "markdown",
   "id": "c020fee1",
   "metadata": {},
   "source": [
    "### Кейс 2\n",
    "Найдите и отсортируйте id экзаменов в рамках курса по возрастанию уровня завершаемости:"
   ]
  },
  {
   "cell_type": "code",
   "execution_count": 15,
   "id": "3a2d7a1e",
   "metadata": {},
   "outputs": [],
   "source": [
    "df2 = df_full.query('assessment_type == \"Exam\"')"
   ]
  },
  {
   "cell_type": "code",
   "execution_count": 16,
   "id": "e4fbceb2",
   "metadata": {},
   "outputs": [
    {
     "name": "stderr",
     "output_type": "stream",
     "text": [
      "/Users/kate/miniconda3/lib/python3.7/site-packages/ipykernel_launcher.py:1: SettingWithCopyWarning: \n",
      "A value is trying to be set on a copy of a slice from a DataFrame.\n",
      "Try using .loc[row_indexer,col_indexer] = value instead\n",
      "\n",
      "See the caveats in the documentation: https://pandas.pydata.org/pandas-docs/stable/user_guide/indexing.html#returning-a-view-versus-a-copy\n",
      "  \"\"\"Entry point for launching an IPython kernel.\n"
     ]
    }
   ],
   "source": [
    "df2['pass'] = df2['score'].apply(lambda x: x >=40)"
   ]
  },
  {
   "cell_type": "code",
   "execution_count": 17,
   "id": "445b6a09",
   "metadata": {},
   "outputs": [
    {
     "data": {
      "text/html": [
       "<div>\n",
       "<style scoped>\n",
       "    .dataframe tbody tr th:only-of-type {\n",
       "        vertical-align: middle;\n",
       "    }\n",
       "\n",
       "    .dataframe tbody tr th {\n",
       "        vertical-align: top;\n",
       "    }\n",
       "\n",
       "    .dataframe thead th {\n",
       "        text-align: right;\n",
       "    }\n",
       "</style>\n",
       "<table border=\"1\" class=\"dataframe\">\n",
       "  <thead>\n",
       "    <tr style=\"text-align: right;\">\n",
       "      <th></th>\n",
       "      <th>id_assessment</th>\n",
       "      <th>success</th>\n",
       "      <th>total_attempts</th>\n",
       "      <th>rate</th>\n",
       "    </tr>\n",
       "  </thead>\n",
       "  <tbody>\n",
       "    <tr>\n",
       "      <th>2</th>\n",
       "      <td>25340</td>\n",
       "      <td>504</td>\n",
       "      <td>602</td>\n",
       "      <td>83.720930</td>\n",
       "    </tr>\n",
       "    <tr>\n",
       "      <th>1</th>\n",
       "      <td>24299</td>\n",
       "      <td>1019</td>\n",
       "      <td>1168</td>\n",
       "      <td>87.243151</td>\n",
       "    </tr>\n",
       "    <tr>\n",
       "      <th>5</th>\n",
       "      <td>25368</td>\n",
       "      <td>842</td>\n",
       "      <td>950</td>\n",
       "      <td>88.631579</td>\n",
       "    </tr>\n",
       "    <tr>\n",
       "      <th>0</th>\n",
       "      <td>24290</td>\n",
       "      <td>664</td>\n",
       "      <td>747</td>\n",
       "      <td>88.888889</td>\n",
       "    </tr>\n",
       "    <tr>\n",
       "      <th>3</th>\n",
       "      <td>25354</td>\n",
       "      <td>878</td>\n",
       "      <td>968</td>\n",
       "      <td>90.702479</td>\n",
       "    </tr>\n",
       "    <tr>\n",
       "      <th>4</th>\n",
       "      <td>25361</td>\n",
       "      <td>485</td>\n",
       "      <td>524</td>\n",
       "      <td>92.557252</td>\n",
       "    </tr>\n",
       "  </tbody>\n",
       "</table>\n",
       "</div>"
      ],
      "text/plain": [
       "   id_assessment  success  total_attempts       rate\n",
       "2          25340      504             602  83.720930\n",
       "1          24299     1019            1168  87.243151\n",
       "5          25368      842             950  88.631579\n",
       "0          24290      664             747  88.888889\n",
       "3          25354      878             968  90.702479\n",
       "4          25361      485             524  92.557252"
      ]
     },
     "execution_count": 17,
     "metadata": {},
     "output_type": "execute_result"
    }
   ],
   "source": [
    "df2.groupby('id_assessment', as_index=False) \\\n",
    "   .agg(success=('pass', 'sum'), total_attempts=('pass', 'count')) \\\n",
    "   .assign(rate=lambda x: x.success / x.total_attempts * 100) \\\n",
    "   .sort_values(by='rate')"
   ]
  },
  {
   "cell_type": "markdown",
   "id": "7500cf4d",
   "metadata": {},
   "source": [
    "id экзаменов в рамках курса по возрастанию уровня завершаемости [25340, 24299, 25368, 24290, 25354, 25361]"
   ]
  },
  {
   "cell_type": "markdown",
   "id": "09844006",
   "metadata": {},
   "source": [
    "### Кейс 3\n",
    "Выявите самые популярные предметы (ТОП-3) по количеству регистраций на них:"
   ]
  },
  {
   "cell_type": "code",
   "execution_count": 18,
   "id": "d80edf77",
   "metadata": {},
   "outputs": [
    {
     "data": {
      "text/html": [
       "<div>\n",
       "<style scoped>\n",
       "    .dataframe tbody tr th:only-of-type {\n",
       "        vertical-align: middle;\n",
       "    }\n",
       "\n",
       "    .dataframe tbody tr th {\n",
       "        vertical-align: top;\n",
       "    }\n",
       "\n",
       "    .dataframe thead th {\n",
       "        text-align: right;\n",
       "    }\n",
       "</style>\n",
       "<table border=\"1\" class=\"dataframe\">\n",
       "  <thead>\n",
       "    <tr style=\"text-align: right;\">\n",
       "      <th></th>\n",
       "      <th>id_student</th>\n",
       "    </tr>\n",
       "    <tr>\n",
       "      <th>code_module</th>\n",
       "      <th></th>\n",
       "    </tr>\n",
       "  </thead>\n",
       "  <tbody>\n",
       "    <tr>\n",
       "      <th>BBB</th>\n",
       "      <td>7692</td>\n",
       "    </tr>\n",
       "    <tr>\n",
       "      <th>FFF</th>\n",
       "      <td>7397</td>\n",
       "    </tr>\n",
       "    <tr>\n",
       "      <th>DDD</th>\n",
       "      <td>5848</td>\n",
       "    </tr>\n",
       "  </tbody>\n",
       "</table>\n",
       "</div>"
      ],
      "text/plain": [
       "             id_student\n",
       "code_module            \n",
       "BBB                7692\n",
       "FFF                7397\n",
       "DDD                5848"
      ]
     },
     "execution_count": 18,
     "metadata": {},
     "output_type": "execute_result"
    }
   ],
   "source": [
    "studentRegistration \\\n",
    "                    .groupby('code_module') \\\n",
    "                    .agg({'id_student': \"nunique\"}) \\\n",
    "                    .sort_values(by='id_student', ascending=False) \\\n",
    "                    .head(3)"
   ]
  },
  {
   "cell_type": "markdown",
   "id": "0fad807f",
   "metadata": {},
   "source": [
    "### Кейс 4\n",
    "Выявите предметы с самым большим оттоком* (ТОП-3):  \n",
    "*Отток в данном случае — это отмена регистрации на предмет."
   ]
  },
  {
   "cell_type": "code",
   "execution_count": 19,
   "id": "32422f9b",
   "metadata": {},
   "outputs": [
    {
     "data": {
      "text/html": [
       "<div>\n",
       "<style scoped>\n",
       "    .dataframe tbody tr th:only-of-type {\n",
       "        vertical-align: middle;\n",
       "    }\n",
       "\n",
       "    .dataframe tbody tr th {\n",
       "        vertical-align: top;\n",
       "    }\n",
       "\n",
       "    .dataframe thead th {\n",
       "        text-align: right;\n",
       "    }\n",
       "</style>\n",
       "<table border=\"1\" class=\"dataframe\">\n",
       "  <thead>\n",
       "    <tr style=\"text-align: right;\">\n",
       "      <th></th>\n",
       "      <th>date_unregistration</th>\n",
       "    </tr>\n",
       "    <tr>\n",
       "      <th>code_module</th>\n",
       "      <th></th>\n",
       "    </tr>\n",
       "  </thead>\n",
       "  <tbody>\n",
       "    <tr>\n",
       "      <th>FFF</th>\n",
       "      <td>2380</td>\n",
       "    </tr>\n",
       "    <tr>\n",
       "      <th>BBB</th>\n",
       "      <td>2377</td>\n",
       "    </tr>\n",
       "    <tr>\n",
       "      <th>DDD</th>\n",
       "      <td>2235</td>\n",
       "    </tr>\n",
       "  </tbody>\n",
       "</table>\n",
       "</div>"
      ],
      "text/plain": [
       "             date_unregistration\n",
       "code_module                     \n",
       "FFF                         2380\n",
       "BBB                         2377\n",
       "DDD                         2235"
      ]
     },
     "execution_count": 19,
     "metadata": {},
     "output_type": "execute_result"
    }
   ],
   "source": [
    "studentRegistration \\\n",
    "            .groupby('code_module') \\\n",
    "            .agg({'date_unregistration': \"count\"}) \\\n",
    "            .sort_values(by='date_unregistration', ascending=False) \\\n",
    "            .head(3)"
   ]
  },
  {
   "cell_type": "markdown",
   "id": "21b51d74",
   "metadata": {},
   "source": [
    "### Кейс 5\n",
    "Используя pandas, в период с начала 2013 по конец 2014 выявите семестр с самой низкой завершаемостью курсов:"
   ]
  },
  {
   "cell_type": "code",
   "execution_count": 20,
   "id": "9ca69c62",
   "metadata": {},
   "outputs": [
    {
     "data": {
      "text/html": [
       "<div>\n",
       "<style scoped>\n",
       "    .dataframe tbody tr th:only-of-type {\n",
       "        vertical-align: middle;\n",
       "    }\n",
       "\n",
       "    .dataframe tbody tr th {\n",
       "        vertical-align: top;\n",
       "    }\n",
       "\n",
       "    .dataframe thead th {\n",
       "        text-align: right;\n",
       "    }\n",
       "</style>\n",
       "<table border=\"1\" class=\"dataframe\">\n",
       "  <thead>\n",
       "    <tr style=\"text-align: right;\">\n",
       "      <th></th>\n",
       "      <th>code_presentation</th>\n",
       "      <th>success</th>\n",
       "      <th>total_attempts</th>\n",
       "      <th>rate</th>\n",
       "    </tr>\n",
       "  </thead>\n",
       "  <tbody>\n",
       "    <tr>\n",
       "      <th>0</th>\n",
       "      <td>2013B</td>\n",
       "      <td>504</td>\n",
       "      <td>602</td>\n",
       "      <td>83.720930</td>\n",
       "    </tr>\n",
       "    <tr>\n",
       "      <th>3</th>\n",
       "      <td>2014J</td>\n",
       "      <td>1861</td>\n",
       "      <td>2118</td>\n",
       "      <td>87.865911</td>\n",
       "    </tr>\n",
       "    <tr>\n",
       "      <th>2</th>\n",
       "      <td>2014B</td>\n",
       "      <td>1149</td>\n",
       "      <td>1271</td>\n",
       "      <td>90.401259</td>\n",
       "    </tr>\n",
       "    <tr>\n",
       "      <th>1</th>\n",
       "      <td>2013J</td>\n",
       "      <td>878</td>\n",
       "      <td>968</td>\n",
       "      <td>90.702479</td>\n",
       "    </tr>\n",
       "  </tbody>\n",
       "</table>\n",
       "</div>"
      ],
      "text/plain": [
       "  code_presentation  success  total_attempts       rate\n",
       "0             2013B      504             602  83.720930\n",
       "3             2014J     1861            2118  87.865911\n",
       "2             2014B     1149            1271  90.401259\n",
       "1             2013J      878             968  90.702479"
      ]
     },
     "execution_count": 20,
     "metadata": {},
     "output_type": "execute_result"
    }
   ],
   "source": [
    "df2.groupby('code_presentation', as_index=False) \\\n",
    "   .agg(success=('pass', 'sum'), total_attempts=('pass', 'count')) \\\n",
    "   .assign(rate=lambda x: x.success / x.total_attempts * 100) \\\n",
    "   .sort_values(by='rate')"
   ]
  },
  {
   "cell_type": "markdown",
   "id": "cbcbe25f",
   "metadata": {},
   "source": [
    "Семестр с самой низкой завершаемостью курсов - 2013B"
   ]
  },
  {
   "cell_type": "markdown",
   "id": "0d6966c0",
   "metadata": {},
   "source": [
    "### Кейс 6\n",
    "Используя pandas, в период с начала 2013 по конец 2014 выявите семестр с самыми долгими средними сроками сдачи курсов:"
   ]
  },
  {
   "cell_type": "code",
   "execution_count": 21,
   "id": "ad4bdd5f",
   "metadata": {},
   "outputs": [
    {
     "data": {
      "text/html": [
       "<div>\n",
       "<style scoped>\n",
       "    .dataframe tbody tr th:only-of-type {\n",
       "        vertical-align: middle;\n",
       "    }\n",
       "\n",
       "    .dataframe tbody tr th {\n",
       "        vertical-align: top;\n",
       "    }\n",
       "\n",
       "    .dataframe thead th {\n",
       "        text-align: right;\n",
       "    }\n",
       "</style>\n",
       "<table border=\"1\" class=\"dataframe\">\n",
       "  <thead>\n",
       "    <tr style=\"text-align: right;\">\n",
       "      <th></th>\n",
       "      <th>date_submitted</th>\n",
       "    </tr>\n",
       "    <tr>\n",
       "      <th>code_presentation</th>\n",
       "      <th></th>\n",
       "    </tr>\n",
       "  </thead>\n",
       "  <tbody>\n",
       "    <tr>\n",
       "      <th>2014J</th>\n",
       "      <td>243.674221</td>\n",
       "    </tr>\n",
       "    <tr>\n",
       "      <th>2013J</th>\n",
       "      <td>239.505165</td>\n",
       "    </tr>\n",
       "    <tr>\n",
       "      <th>2014B</th>\n",
       "      <td>232.988985</td>\n",
       "    </tr>\n",
       "    <tr>\n",
       "      <th>2013B</th>\n",
       "      <td>230.179402</td>\n",
       "    </tr>\n",
       "  </tbody>\n",
       "</table>\n",
       "</div>"
      ],
      "text/plain": [
       "                   date_submitted\n",
       "code_presentation                \n",
       "2014J                  243.674221\n",
       "2013J                  239.505165\n",
       "2014B                  232.988985\n",
       "2013B                  230.179402"
      ]
     },
     "execution_count": 21,
     "metadata": {},
     "output_type": "execute_result"
    }
   ],
   "source": [
    "df_full.query('assessment_type == \"Exam\"') \\\n",
    "            .groupby('code_presentation') \\\n",
    "            .agg({\"date_submitted\": \"mean\"}) \\\n",
    "            .sort_values(by='date_submitted', ascending=False)"
   ]
  },
  {
   "cell_type": "markdown",
   "id": "0daf81d8",
   "metadata": {},
   "source": [
    "Семестр с самыми долгими средними сроками сдачи курсов: 2014J"
   ]
  },
  {
   "cell_type": "markdown",
   "id": "2a05e7af",
   "metadata": {},
   "source": [
    "### Кейс 7\n",
    "Часто для качественного анализа аудитории используют подходы, основанные на сегментации. Используя python, постройте адаптированные RFM-кластеры студентов, чтобы качественно оценить свою аудиторию. В адаптированной кластеризации можете выбрать следующие метрики:\n",
    "\n",
    "R — среднее время сдачи одного экзамена,\n",
    "\n",
    "F — завершаемость курсов, \n",
    "\n",
    "M — среднее количество баллов, получаемое за экзамен.\n",
    "\n",
    "Для каждого RFM-сегмента постройте границы метрик recency, frequency и monetary для интерпретации этих кластеров.\n",
    "\n",
    "\n",
    "Чему равна минимальная граница по recency?\n",
    "\n"
   ]
  },
  {
   "cell_type": "code",
   "execution_count": 22,
   "id": "55af50ca",
   "metadata": {},
   "outputs": [],
   "source": [
    "#создаем df с колонками recency, monetary, агрегируя по дате-среднее и оценке-среднее\n",
    "rm = df_full.query(\"assessment_type == 'Exam'\") \\\n",
    "            .groupby(\"id_student\", as_index=False) \\\n",
    "            .agg(recency=('date_submitted', 'mean'), monetary=(\"score\", \"mean\"))"
   ]
  },
  {
   "cell_type": "code",
   "execution_count": 23,
   "id": "6cdba90d",
   "metadata": {},
   "outputs": [],
   "source": [
    "#rm.describe() #229"
   ]
  },
  {
   "cell_type": "markdown",
   "id": "b9438173",
   "metadata": {},
   "source": [
    "### Кейс 8\n",
    "Чему равна максимальная граница по recency?"
   ]
  },
  {
   "cell_type": "code",
   "execution_count": 24,
   "id": "3e5af7a6",
   "metadata": {},
   "outputs": [],
   "source": [
    "#rm.describe() #285"
   ]
  },
  {
   "cell_type": "markdown",
   "id": "72d1d29d",
   "metadata": {},
   "source": [
    "### Кейс 9\n",
    "Чему равна минимальная граница по monetary?"
   ]
  },
  {
   "cell_type": "code",
   "execution_count": 25,
   "id": "a9bcefed",
   "metadata": {},
   "outputs": [],
   "source": [
    "#rm.describe() #0"
   ]
  },
  {
   "cell_type": "markdown",
   "id": "2ced5ece",
   "metadata": {},
   "source": [
    "### Кейс 10\n",
    "Чему равна максимальная граница по monetary?"
   ]
  },
  {
   "cell_type": "code",
   "execution_count": 26,
   "id": "fdf57006",
   "metadata": {},
   "outputs": [],
   "source": [
    "#rm.describe() #100"
   ]
  },
  {
   "cell_type": "markdown",
   "id": "5069a17b",
   "metadata": {},
   "source": [
    "### Кейс 11\n",
    "Используя логику:\n",
    "\n",
    "1) по recency (среднее время сдачи одного экзамена) можно получить 2, если значение recency меньше либо равно медиане по recency. В остальных случаях — 1.\n",
    "\n",
    "2) по frequency можно получить 1, если значение frequency меньше 50. Можно получить 2, если значение по frequency меньше 100. Можно получить 3 в остальных случаях.\n",
    "\n",
    "3) по monetary можно получить 1, если значение monetary меньше 40. Можно получить 2, если значение по monetary меньше либо равно 80. Можно получить 3 в остальных случаях.\n",
    "\n",
    "Сколько клиентов попадут в кластер 232?"
   ]
  },
  {
   "cell_type": "markdown",
   "id": "32053d07",
   "metadata": {},
   "source": [
    "1. создаем дф где считаем сколько экзаменов успешно сдал каждый студент"
   ]
  },
  {
   "cell_type": "code",
   "execution_count": 27,
   "id": "b3c7b8ef",
   "metadata": {},
   "outputs": [],
   "source": [
    "success_pass = df_full.query(\"assessment_type == 'Exam' & score >= 40\") \\\n",
    "              .groupby(\"id_student\", as_index=False) \\\n",
    "              .agg(success=(\"id_assessment\", \"count\"))"
   ]
  },
  {
   "cell_type": "markdown",
   "id": "bd720e8c",
   "metadata": {},
   "source": [
    "2. считаем сколько в принципе сдавал каждый студент:"
   ]
  },
  {
   "cell_type": "code",
   "execution_count": 28,
   "id": "15d63c1f",
   "metadata": {},
   "outputs": [],
   "source": [
    "failure = df_full.query(\"assessment_type == 'Exam'\") \\\n",
    "         .groupby(\"id_student\", as_index=False) \\\n",
    "         .agg(failure=(\"id_assessment\", \"count\"))"
   ]
  },
  {
   "cell_type": "markdown",
   "id": "936214ca",
   "metadata": {},
   "source": [
    "3. соединяем - одна колонка с успешно сданным экз, другая с общим количеством. Исп левое соединение,\n",
    "потому что тех кто сдал успешно меньше, чем тех кто в принципе сдавал. Заполняем 0 пропуски:"
   ]
  },
  {
   "cell_type": "code",
   "execution_count": 29,
   "id": "1c85fe4f",
   "metadata": {},
   "outputs": [],
   "source": [
    "all_exams = failure.merge(success_pass, how='left').fillna(0)"
   ]
  },
  {
   "cell_type": "markdown",
   "id": "56d8795c",
   "metadata": {},
   "source": [
    "4. делим, чтобы получить долю "
   ]
  },
  {
   "cell_type": "code",
   "execution_count": 30,
   "id": "ce1fc723",
   "metadata": {},
   "outputs": [],
   "source": [
    "frequency = all_exams.assign(frequency=lambda x: x.success / x.failure * 100)[['id_student','frequency']]"
   ]
  },
  {
   "cell_type": "markdown",
   "id": "84c24327",
   "metadata": {},
   "source": [
    ">1) по recency (среднее время сдачи одного экзамена) можно получить 2, если значение recency меньше либо равно медиане по recency. В остальных случаях — 1.\n",
    "\n",
    ">2) по frequency можно получить 1, если значение frequency меньше 50. Можно получить 2, если значение по frequency меньше 100. Можно получить 3 в остальных случаях.\n",
    "\n",
    ">3) по monetary можно получить 1, если значение monetary меньше 40. Можно получить 2, если значение по monetary меньше либо равно 80. Можно получить 3 в остальных случаях."
   ]
  },
  {
   "cell_type": "code",
   "execution_count": 31,
   "id": "c8d2c8ad",
   "metadata": {},
   "outputs": [],
   "source": [
    "RMF = rm.merge(frequency, on='id_student', how='left')"
   ]
  },
  {
   "cell_type": "code",
   "execution_count": 32,
   "id": "c41cda50",
   "metadata": {},
   "outputs": [
    {
     "data": {
      "text/html": [
       "<div>\n",
       "<style scoped>\n",
       "    .dataframe tbody tr th:only-of-type {\n",
       "        vertical-align: middle;\n",
       "    }\n",
       "\n",
       "    .dataframe tbody tr th {\n",
       "        vertical-align: top;\n",
       "    }\n",
       "\n",
       "    .dataframe thead th {\n",
       "        text-align: right;\n",
       "    }\n",
       "</style>\n",
       "<table border=\"1\" class=\"dataframe\">\n",
       "  <thead>\n",
       "    <tr style=\"text-align: right;\">\n",
       "      <th></th>\n",
       "      <th>id_student</th>\n",
       "      <th>recency</th>\n",
       "      <th>monetary</th>\n",
       "      <th>frequency</th>\n",
       "    </tr>\n",
       "  </thead>\n",
       "  <tbody>\n",
       "    <tr>\n",
       "      <th>0</th>\n",
       "      <td>23698</td>\n",
       "      <td>243.0</td>\n",
       "      <td>80.0</td>\n",
       "      <td>100.0</td>\n",
       "    </tr>\n",
       "    <tr>\n",
       "      <th>1</th>\n",
       "      <td>24213</td>\n",
       "      <td>236.0</td>\n",
       "      <td>58.0</td>\n",
       "      <td>100.0</td>\n",
       "    </tr>\n",
       "    <tr>\n",
       "      <th>2</th>\n",
       "      <td>27116</td>\n",
       "      <td>243.0</td>\n",
       "      <td>96.0</td>\n",
       "      <td>100.0</td>\n",
       "    </tr>\n",
       "    <tr>\n",
       "      <th>3</th>\n",
       "      <td>28046</td>\n",
       "      <td>237.0</td>\n",
       "      <td>40.0</td>\n",
       "      <td>100.0</td>\n",
       "    </tr>\n",
       "    <tr>\n",
       "      <th>4</th>\n",
       "      <td>28787</td>\n",
       "      <td>243.0</td>\n",
       "      <td>44.0</td>\n",
       "      <td>100.0</td>\n",
       "    </tr>\n",
       "    <tr>\n",
       "      <th>...</th>\n",
       "      <td>...</td>\n",
       "      <td>...</td>\n",
       "      <td>...</td>\n",
       "      <td>...</td>\n",
       "    </tr>\n",
       "    <tr>\n",
       "      <th>4628</th>\n",
       "      <td>2694886</td>\n",
       "      <td>236.0</td>\n",
       "      <td>69.0</td>\n",
       "      <td>100.0</td>\n",
       "    </tr>\n",
       "    <tr>\n",
       "      <th>4629</th>\n",
       "      <td>2694933</td>\n",
       "      <td>230.0</td>\n",
       "      <td>73.0</td>\n",
       "      <td>100.0</td>\n",
       "    </tr>\n",
       "    <tr>\n",
       "      <th>4630</th>\n",
       "      <td>2695608</td>\n",
       "      <td>237.0</td>\n",
       "      <td>73.0</td>\n",
       "      <td>100.0</td>\n",
       "    </tr>\n",
       "    <tr>\n",
       "      <th>4631</th>\n",
       "      <td>2697181</td>\n",
       "      <td>230.0</td>\n",
       "      <td>80.0</td>\n",
       "      <td>100.0</td>\n",
       "    </tr>\n",
       "    <tr>\n",
       "      <th>4632</th>\n",
       "      <td>2698251</td>\n",
       "      <td>234.0</td>\n",
       "      <td>44.0</td>\n",
       "      <td>100.0</td>\n",
       "    </tr>\n",
       "  </tbody>\n",
       "</table>\n",
       "<p>4633 rows × 4 columns</p>\n",
       "</div>"
      ],
      "text/plain": [
       "      id_student  recency  monetary  frequency\n",
       "0          23698    243.0      80.0      100.0\n",
       "1          24213    236.0      58.0      100.0\n",
       "2          27116    243.0      96.0      100.0\n",
       "3          28046    237.0      40.0      100.0\n",
       "4          28787    243.0      44.0      100.0\n",
       "...          ...      ...       ...        ...\n",
       "4628     2694886    236.0      69.0      100.0\n",
       "4629     2694933    230.0      73.0      100.0\n",
       "4630     2695608    237.0      73.0      100.0\n",
       "4631     2697181    230.0      80.0      100.0\n",
       "4632     2698251    234.0      44.0      100.0\n",
       "\n",
       "[4633 rows x 4 columns]"
      ]
     },
     "execution_count": 32,
     "metadata": {},
     "output_type": "execute_result"
    }
   ],
   "source": [
    "RMF"
   ]
  },
  {
   "cell_type": "code",
   "execution_count": 33,
   "id": "4d234bff",
   "metadata": {},
   "outputs": [],
   "source": [
    "RMF[\"R\"] = RMF.recency.apply(lambda x: np.where(x<= RMF.recency.median(), 2, 1)).astype(str)\n",
    "#приводим к строчному типу, чтобы потом можно было конкатенировать цифры"
   ]
  },
  {
   "cell_type": "code",
   "execution_count": 34,
   "id": "55668816",
   "metadata": {},
   "outputs": [],
   "source": [
    "def freq_score(x):\n",
    "    if x < 50:\n",
    "        return 1\n",
    "    elif 50 <= x < 100:\n",
    "        return 2\n",
    "    return 3\n",
    "RMF['F'] = RMF.frequency.apply(lambda x: freq_score(x)).astype(str)"
   ]
  },
  {
   "cell_type": "code",
   "execution_count": 35,
   "id": "35b0ed24",
   "metadata": {},
   "outputs": [],
   "source": [
    "def mon_score(x):\n",
    "    if x < 40:\n",
    "        return 1\n",
    "    elif 40 <= x <= 80:\n",
    "        return 2\n",
    "    return 3\n",
    "RMF[\"M\"] = RMF.monetary.apply(lambda x: mon_score(x)).astype(str)"
   ]
  },
  {
   "cell_type": "code",
   "execution_count": 36,
   "id": "c3c67f1c",
   "metadata": {},
   "outputs": [],
   "source": [
    "RMF = RMF.assign(RFM = lambda x: x.R + x.F + x.M)"
   ]
  },
  {
   "cell_type": "code",
   "execution_count": 37,
   "id": "375b88a7",
   "metadata": {},
   "outputs": [
    {
     "data": {
      "text/plain": [
       "232    1555\n",
       "132    1325\n",
       "133     611\n",
       "233     578\n",
       "211     269\n",
       "111     267\n",
       "222      18\n",
       "221       6\n",
       "122       3\n",
       "121       1\n",
       "Name: RFM, dtype: int64"
      ]
     },
     "execution_count": 37,
     "metadata": {},
     "output_type": "execute_result"
    }
   ],
   "source": [
    "RMF.RFM.value_counts()"
   ]
  }
 ],
 "metadata": {
  "kernelspec": {
   "display_name": "Python 3",
   "language": "python",
   "name": "python3"
  },
  "language_info": {
   "codemirror_mode": {
    "name": "ipython",
    "version": 3
   },
   "file_extension": ".py",
   "mimetype": "text/x-python",
   "name": "python",
   "nbconvert_exporter": "python",
   "pygments_lexer": "ipython3",
   "version": "3.7.6"
  }
 },
 "nbformat": 4,
 "nbformat_minor": 5
}
